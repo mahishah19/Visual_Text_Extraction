{
 "cells": [
  {
   "cell_type": "markdown",
   "metadata": {},
   "source": [
    "## Importing Packages "
   ]
  },
  {
   "cell_type": "code",
   "execution_count": 1,
   "metadata": {},
   "outputs": [],
   "source": [
    "#we import these packages and link to our tesseract executable file\n",
    "import cv2\n",
    "import pytesseract\n",
    "import numpy as np\n",
    "from PIL import ImageGrab\n",
    "import time\n",
    "import os\n",
    "\n",
    "# for data appending\n",
    "import re\n",
    "import time"
   ]
  },
  {
   "cell_type": "markdown",
   "metadata": {},
   "source": [
    "### Setting Parameters"
   ]
  },
  {
   "cell_type": "code",
   "execution_count": 2,
   "metadata": {},
   "outputs": [],
   "source": [
    "per = 1"
   ]
  },
  {
   "cell_type": "markdown",
   "metadata": {},
   "source": [
    "### Query Image Region Co-ordinates"
   ]
  },
  {
   "cell_type": "code",
   "execution_count": 3,
   "metadata": {},
   "outputs": [],
   "source": [
    "roi= [[(266, 96), (602, 138), 'text', 'DL No'], \n",
    "      [(788, 94), (990, 146), 'text', 'Date of Issue'], \n",
    "      [(308, 128), (498, 178), 'text', 'Valid Till'], \n",
    "      [(372, 288), (514, 416), 'text', 'COV'], \n",
    "      [(494, 452), (704, 508), 'text', 'DOB'], \n",
    "      [(804, 452), (878, 502), 'text', 'Blood Group'], \n",
    "      [(158, 498), (718, 546), 'text', 'Name'], \n",
    "      [(174, 542), (720, 572), 'text', 'S/D/W'], \n",
    "      [(100, 572), (1000, 610), 'text', 'Address 1'], \n",
    "      [(24, 602), (1000, 640), 'text', 'Address 2'], \n",
    "      [(30, 636), (900, 678), 'text', 'City'], \n",
    "      [(90, 670), (226, 710), 'text', 'Pin'], \n",
    "      [(302, 732), (410, 784), 'text', 'Issuing Authority']]"
   ]
  },
  {
   "cell_type": "markdown",
   "metadata": {},
   "source": [
    "### Importing PyTesseract"
   ]
  },
  {
   "cell_type": "code",
   "execution_count": 4,
   "metadata": {},
   "outputs": [],
   "source": [
    "pytesseract.pytesseract.tesseract_cmd = 'C://Program Files//Tesseract-OCR//tesseract.exe'"
   ]
  },
  {
   "cell_type": "markdown",
   "metadata": {},
   "source": [
    "### Importing Database"
   ]
  },
  {
   "cell_type": "code",
   "execution_count": 5,
   "metadata": {},
   "outputs": [
    {
     "name": "stdout",
     "output_type": "stream",
     "text": [
      "['Aaditya.jpeg', \"Aman's Dad.jpg\", \"Aman's Sister.jpg\", 'Amit.jpeg', 'Atul.jpeg', 'Bipin.jpeg', 'BK.jpeg', 'Charmi.jpeg', 'Chetan.jpeg', 'Chitranjan.jpeg', 'Darshan.jpeg', 'Dhairya.jpeg', 'Dharmi photo.jpg', 'Dhaval.jpeg', 'Dhruv.jpg', 'Dipika.jpeg', 'Divya.jpeg', 'Garv.jpeg', 'Hardik.jpeg', 'Hasti.jpeg', 'Heta.jpeg', 'Khushi.jpg', \"Mahi's Father.jpeg\", 'Manav.jpg', 'Mehali.jpeg', 'Mek.jpeg', 'Milind.jpeg', 'Milonee.jpeg', 'Neel.jpg', 'Nia.jpg', 'Nixit.jpeg', 'Palash.jpg', 'Param.jpeg', 'Piyushkumar.jpeg', 'R Shriram.jpeg', 'Rajesh Dubey.jpeg', 'Reena.jpeg', 'Rutvi.jpeg', 'Saisha.jpg', 'Shanay.jpeg', 'Shashank Ranka Demo.jpeg', 'Shlok.jpeg', 'Smit.jpeg', 'Tejas.jpg', 'Vanshika.jpeg', 'Vicky.jpeg', 'Vinayak.jpeg']\n"
     ]
    }
   ],
   "source": [
    "img = cv2.imread(\"C://Users//Arvind Desai//Desktop//Sem 6 IDS Project//Query//Dharmi Final Query.jpg\") \n",
    "h,w,c = img.shape\n",
    "#img = cv2.resize(img,(w//3,h//3))\n",
    "#cv2.imshow(\"Output\", img)\n",
    "#cv2.waitKey(0)\n",
    "\n",
    "orb = cv2.ORB_create(5000)\n",
    "kp1, des1 = orb.detectAndCompute(img,None)\n",
    "impKp1 = cv2.drawKeypoints(img,kp1,None)\n",
    "# cv2.imshow(\"KeyPointsQuery\", impKp1)\n",
    "# cv2.waitKey(0)\n",
    "\n",
    "path = \"C://Users//Arvind Desai//Desktop//Sem 6 IDS Project//Final License Database\"\n",
    "myPicList = os.listdir(path)\n",
    "print(myPicList)"
   ]
  },
  {
   "cell_type": "markdown",
   "metadata": {},
   "source": [
    "### Defining an Image Pre-Processing Function"
   ]
  },
  {
   "cell_type": "code",
   "execution_count": 6,
   "metadata": {},
   "outputs": [],
   "source": [
    "def increase_brightness(img, value=30):\n",
    "    hsv = cv2.cvtColor(img, cv2.COLOR_BGR2HSV)\n",
    "    h, s, v = cv2.split(hsv)\n",
    "\n",
    "    lim = 255 - value\n",
    "    v[v > lim] = 255\n",
    "    v[v <= lim] += value\n",
    "\n",
    "    final_hsv = cv2.merge((h, s, v))\n",
    "    img = cv2.cvtColor(final_hsv, cv2.COLOR_HSV2BGR)\n",
    "    return img"
   ]
  },
  {
   "cell_type": "markdown",
   "metadata": {},
   "source": [
    "# Text Recognition & Database Creation"
   ]
  },
  {
   "cell_type": "code",
   "execution_count": 7,
   "metadata": {
    "scrolled": false
   },
   "outputs": [
    {
     "name": "stdout",
     "output_type": "stream",
     "text": [
      "################## Extracting Data from License 1  ##################\n",
      "################## Extracting Data from License 2  ##################\n",
      "################## Extracting Data from License 3  ##################\n",
      "################## Extracting Data from License 4  ##################\n",
      "################## Extracting Data from License 5  ##################\n",
      "################## Extracting Data from License 6  ##################\n",
      "################## Extracting Data from License 7  ##################\n",
      "################## Extracting Data from License 8  ##################\n",
      "################## Extracting Data from License 9  ##################\n",
      "################## Extracting Data from License 10  ##################\n",
      "################## Extracting Data from License 11  ##################\n",
      "################## Extracting Data from License 12  ##################\n",
      "################## Extracting Data from License 13  ##################\n",
      "################## Extracting Data from License 14  ##################\n",
      "################## Extracting Data from License 15  ##################\n",
      "################## Extracting Data from License 16  ##################\n",
      "################## Extracting Data from License 17  ##################\n",
      "################## Extracting Data from License 18  ##################\n",
      "################## Extracting Data from License 19  ##################\n",
      "################## Extracting Data from License 20  ##################\n",
      "################## Extracting Data from License 21  ##################\n",
      "################## Extracting Data from License 22  ##################\n",
      "################## Extracting Data from License 23  ##################\n",
      "################## Extracting Data from License 24  ##################\n",
      "################## Extracting Data from License 25  ##################\n",
      "################## Extracting Data from License 26  ##################\n",
      "################## Extracting Data from License 27  ##################\n",
      "################## Extracting Data from License 28  ##################\n",
      "################## Extracting Data from License 29  ##################\n",
      "################## Extracting Data from License 30  ##################\n",
      "################## Extracting Data from License 31  ##################\n",
      "################## Extracting Data from License 32  ##################\n",
      "################## Extracting Data from License 33  ##################\n",
      "################## Extracting Data from License 34  ##################\n",
      "################## Extracting Data from License 35  ##################\n",
      "################## Extracting Data from License 36  ##################\n",
      "################## Extracting Data from License 37  ##################\n",
      "################## Extracting Data from License 38  ##################\n",
      "################## Extracting Data from License 39  ##################\n",
      "################## Extracting Data from License 40  ##################\n",
      "################## Extracting Data from License 41  ##################\n",
      "################## Extracting Data from License 42  ##################\n",
      "################## Extracting Data from License 43  ##################\n",
      "################## Extracting Data from License 44  ##################\n",
      "################## Extracting Data from License 45  ##################\n",
      "################## Extracting Data from License 46  ##################\n",
      "################## Extracting Data from License 47  ##################\n",
      "\n",
      "Runtime of the program is 2 min 0.3002181053161621 sec\n"
     ]
    }
   ],
   "source": [
    "start = time.time()\n",
    "\n",
    "for j,y in enumerate(myPicList):\n",
    "    img1 = cv2.imread(path +\"//\"+y)\n",
    "    #img1 = cv2.resize(img1, (w // 3, h // 3))\n",
    "    #cv2.imshow(y, img1)\n",
    "    \n",
    "    kp2, des2 = orb.detectAndCompute(img1,None)\n",
    "    bf = cv2.BFMatcher(cv2.NORM_HAMMING)\n",
    "    matches = bf.match(des2,des1)\n",
    "    matches.sort(key= lambda x: x.distance)\n",
    "    good = matches[:int(len(matches)*(per/100))]\n",
    "    imgMatch = cv2.drawMatches(img1,kp2,img,kp1,good[:100],None,flags=2)\n",
    "    #imgMatch = cv2.resize(imgMatch, (w // 3, h // 3))\n",
    "    #cv2.imshow(y, imgMatch)\n",
    "    #cv2.waitKey(0)\n",
    "    \n",
    "    srcPoints = np.float32([kp2[m.queryIdx].pt for m in good ]).reshape(-1,1,2)\n",
    "    dstPoints = np.float32([kp1[m.trainIdx].pt for m in good]).reshape(-1, 1, 2)\n",
    "\n",
    "    M, _ = cv2.findHomography(srcPoints,dstPoints,cv2.RANSAC,5.0)\n",
    "    imgScan = cv2.warpPerspective(img1,M,(w,h))\n",
    "    #imgScan = cv2.resize(imgScan, (w // 3, h // 3))\n",
    "    #cv2.imshow(y, imgScan)\n",
    "    #cv2.waitKey(0)\n",
    "    \n",
    "    imgScan = increase_brightness(imgScan, value=63)\n",
    "    \n",
    "    kernel = np.ones((2,2),np.uint8)\n",
    "    imgScan = cv2.dilate(imgScan,kernel,iterations = 1)\n",
    "#     imgScan = cv2.erode(imgScan,kernel,iterations = 1)\n",
    "   \n",
    "    imgShow = imgScan.copy()\n",
    "    imgMask = np.zeros_like(imgShow)\n",
    "\n",
    "    myData = []\n",
    "\n",
    "    print(f'################## Extracting Data from License {j+1}  ##################')\n",
    "\n",
    "    for x,r in enumerate(roi):\n",
    "        cv2.rectangle(imgMask, (r[0][0],r[0][1]),(r[1][0],r[1][1]),(0,255,0),cv2.FILLED)\n",
    "        imgShow = cv2.addWeighted(imgShow,0.99,imgMask,0.1,0)\n",
    "#     imgShow = cv2.resize(imgShow, (w // 3, h // 3))\n",
    "#     cv2.imshow(y+\"2\", imgShow)\n",
    "        imgCrop = imgScan[r[0][1]:r[1][1], r[0][0]:r[1][0]]\n",
    "        ##cv2.imshow(str(x), imgCrop)\n",
    "#         print(f'{r[3]} :{pytesseract.image_to_string(imgCrop)}')\n",
    "        myData.append(pytesseract.image_to_string(imgCrop, lang='eng',config='--psm 12 --oem 3'))\n",
    "##       cv2.putText(imgShow,str(myData[x]),(r[0][0],r[0][1]), cv2.FONT_HERSHEY_PLAIN,2.5,(0,0,255),4)\n",
    "    \n",
    "    with open('LicenseOutput.csv','a+') as f:\n",
    "        for data in myData:\n",
    "            f.write(re.sub(r\"[\\n\\x00-\\x08\\x0b\\x0c\\x0e-\\x1f\\x7f-\\xff\\.\\,\\'\\?\\=\\!\\|\\>\\_\\$\\~\\[\\:\\]\\'\\`\\*\\‘\\—\\)\\(\\’\\\"\\™\\“\\€]\", '', data)+',')\n",
    "        f.write('\\n') \n",
    "      \n",
    " \n",
    "#     print(myData)\n",
    "time.sleep(1)\n",
    "# end time\n",
    "end = time.time()\n",
    "\n",
    "# total time taken\n",
    "print(f\"\\nRuntime of the program is {int((end - start)/60)} min {(end - start)-int(end - start)} sec\")\n",
    "#     cv2.imshow(y+\"2\", imgShow)\n",
    "#     cv2.imwrite(y,imgShow)\n",
    "# cv2.waitKey(0)"
   ]
  },
  {
   "cell_type": "code",
   "execution_count": null,
   "metadata": {},
   "outputs": [],
   "source": []
  }
 ],
 "metadata": {
  "kernelspec": {
   "display_name": "Python 3",
   "language": "python",
   "name": "python3"
  },
  "language_info": {
   "codemirror_mode": {
    "name": "ipython",
    "version": 3
   },
   "file_extension": ".py",
   "mimetype": "text/x-python",
   "name": "python",
   "nbconvert_exporter": "python",
   "pygments_lexer": "ipython3",
   "version": "3.8.5"
  }
 },
 "nbformat": 4,
 "nbformat_minor": 4
}
