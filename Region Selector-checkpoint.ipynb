{
 "cells": [
  {
   "cell_type": "code",
   "execution_count": 1,
   "metadata": {},
   "outputs": [
    {
     "name": "stdout",
     "output_type": "stream",
     "text": [
      "Enter Typetext\n",
      "Enter Name DL No\n",
      "Enter Typetext\n",
      "Enter Name Date of Issue\n",
      "Enter Typetext\n",
      "Enter Name Valid Till\n",
      "Enter Typetext\n",
      "Enter Name COV\n",
      "Enter Typetext\n",
      "Enter Name DOB\n",
      "Enter TypeBlood Group\n",
      "Enter Name Blood Group\n",
      "Enter Typetext\n",
      "Enter Name Name\n",
      "Enter Typetext\n",
      "Enter Name S/D/W\n",
      "Enter Typetext\n",
      "Enter Name Address 1\n",
      "Enter Typetext\n",
      "Enter Name Address 2\n",
      "Enter Typetext\n",
      "Enter Name City\n",
      "Enter Typetext\n",
      "Enter Name Pin\n",
      "Enter Typetext\n",
      "Enter Name Issuing Authority\n",
      "[[(266, 96), (602, 138), 'text', 'DL No'], [(788, 94), (990, 146), 'text', 'Date of Issue'], [(308, 128), (498, 178), 'text', 'Valid Till'], [(372, 288), (514, 416), 'text', 'COV'], [(494, 452), (704, 508), 'text', 'DOB'], [(804, 452), (878, 502), 'Blood Group', 'Blood Group'], [(158, 498), (718, 546), 'text', 'Name'], [(178, 542), (720, 572), 'text', 'S/D/W'], [(100, 572), (800, 610), 'text', 'Address 1'], [(24, 602), (800, 640), 'text', 'Address 2'], [(30, 636), (646, 678), 'text', 'City'], [(106, 670), (226, 710), 'text', 'Pin'], [(302, 732), (424, 784), 'text', 'Issuing Authority']]\n"
     ]
    }
   ],
   "source": [
    "#This script allows to collect raw points from an image.\n",
    "#The inputs are two mouse clicks one in the x,y position and\n",
    "#the second in w,h of a rectangle.\n",
    "#Once a rectangle is selected the user is asked to enter the type\n",
    "#and the Name:\n",
    "#Type can be 'Text' or 'CheckBox'\n",
    "#Name can be anything\n",
    "import cv2\n",
    "import random\n",
    "\n",
    "path = 'C://Users//Arvind Desai//Desktop//Sem 6 IDS Project//Query//Dharmi.jpg'\n",
    "scale = 0.5\n",
    "circles = []\n",
    "counter = 0\n",
    "counter2 = 0\n",
    "point1=[]\n",
    "point2=[]\n",
    "myPoints = []\n",
    "myColor=[]\n",
    "def mousePoints(event,x,y,flags,params):\n",
    "    global counter,point1,point2,counter2,circles,myColor\n",
    "    if event == cv2.EVENT_LBUTTONDOWN:\n",
    "        if counter==0:\n",
    "            point1=int(x//scale),int(y//scale);\n",
    "            counter +=1\n",
    "            myColor = (random.randint(0,2)*200,random.randint(0,2)*200,random.randint(0,2)*200 )\n",
    "        elif counter ==1:\n",
    "            point2=int(x//scale),int(y//scale)\n",
    "            type = input('Enter Type')\n",
    "            name = input ('Enter Name ')\n",
    "            myPoints.append([point1,point2,type,name])\n",
    "            counter=0\n",
    "        circles.append([x,y,myColor])\n",
    "        counter2 += 1\n",
    "\n",
    "img = cv2.imread(path)\n",
    "img = cv2.resize(img, (0, 0), None, scale, scale)\n",
    "\n",
    "while True:\n",
    "    # To Display points\n",
    "    for x,y,color in circles:\n",
    "        cv2.circle(img,(x,y),3,color,cv2.FILLED)\n",
    "    cv2.imshow(\"Original Image \", img)\n",
    "    cv2.setMouseCallback(\"Original Image \", mousePoints)\n",
    "    if cv2.waitKey(1) & 0xFF == ord('s'):\n",
    "        print(myPoints)\n",
    "        break"
   ]
  },
  {
   "cell_type": "code",
   "execution_count": null,
   "metadata": {},
   "outputs": [],
   "source": []
  },
  {
   "cell_type": "code",
   "execution_count": null,
   "metadata": {},
   "outputs": [],
   "source": []
  }
 ],
 "metadata": {
  "kernelspec": {
   "display_name": "Python 3",
   "language": "python",
   "name": "python3"
  },
  "language_info": {
   "codemirror_mode": {
    "name": "ipython",
    "version": 3
   },
   "file_extension": ".py",
   "mimetype": "text/x-python",
   "name": "python",
   "nbconvert_exporter": "python",
   "pygments_lexer": "ipython3",
   "version": "3.8.5"
  }
 },
 "nbformat": 4,
 "nbformat_minor": 4
}
